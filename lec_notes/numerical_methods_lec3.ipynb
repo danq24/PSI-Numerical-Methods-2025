{
 "cells": [
  {
   "cell_type": "markdown",
   "id": "97ed7520-efc5-4c41-8c42-75841ecf514a",
   "metadata": {},
   "source": [
    "# Linear Algebra 2"
   ]
  },
  {
   "cell_type": "markdown",
   "id": "f0a8ac8e-3878-41de-a678-a42a22d7b946",
   "metadata": {},
   "source": [
    "- matrix types\n",
    "- eigenvalues and singular values\n",
    "- sparse matrices\n",
    "- Krylov subspace methods\n",
    "- example: the power method"
   ]
  },
  {
   "cell_type": "markdown",
   "id": "3af3c6e3-7a97-4e8f-bd39-4acb90f3b1f3",
   "metadata": {},
   "source": [
    "### Matrix"
   ]
  },
  {
   "cell_type": "markdown",
   "id": "1bcb78ab-e43d-447b-96f8-0fcea1b6c700",
   "metadata": {},
   "source": [
    "If an algorithms knows something about the structure of a matrix (ie if it is diagonal, hermitian, symmetric, upper trianglar, tri-diagonal, sparse etc.) there is likely a more efficient algorithm than one that works for a general matrix. However, checking each entry to confirm this structure could erase any speedup. "
   ]
  },
  {
   "cell_type": "code",
   "execution_count": 4,
   "id": "ef791601-39ee-4acf-8bde-4a781d0810d2",
   "metadata": {},
   "outputs": [
    {
     "data": {
      "text/plain": [
       "4×4 Matrix{Float64}:\n",
       "  0.320766  -0.350786  -0.964226  2.32074\n",
       "  2.03683    0.469161  -0.84902   0.0730647\n",
       "  1.7249    -0.332978   0.853162  1.45533\n",
       " -0.176783   0.35677    1.91591   0.400834"
      ]
     },
     "execution_count": 4,
     "metadata": {},
     "output_type": "execute_result"
    }
   ],
   "source": [
    "A = randn(4, 4)"
   ]
  },
  {
   "cell_type": "code",
   "execution_count": 5,
   "id": "7c012734-7846-4a5f-b739-4d735f223ef2",
   "metadata": {},
   "outputs": [
    {
     "data": {
      "text/plain": [
       "4×4 Matrix{Float64}:\n",
       " 0.320766   0.84302    0.380334  1.07198\n",
       " 0.84302    0.469161  -0.590999  0.214917\n",
       " 0.380334  -0.590999   0.853162  1.68562\n",
       " 1.07198    0.214917   1.68562   0.400834"
      ]
     },
     "execution_count": 5,
     "metadata": {},
     "output_type": "execute_result"
    }
   ],
   "source": [
    "B = (A + A') / 2"
   ]
  },
  {
   "cell_type": "code",
   "execution_count": 6,
   "id": "fa772a62-2b42-47ad-87f1-680a7bca6ec2",
   "metadata": {},
   "outputs": [],
   "source": [
    "using LinearAlgebra"
   ]
  },
  {
   "cell_type": "code",
   "execution_count": 7,
   "id": "942c7efc-6212-4ce4-a067-cbd77377d87f",
   "metadata": {},
   "outputs": [
    {
     "data": {
      "text/plain": [
       "4×4 Symmetric{Float64, Matrix{Float64}}:\n",
       "  0.320766  -0.350786   -0.964226  2.32074\n",
       " -0.350786   0.469161   -0.84902   0.0730647\n",
       " -0.964226  -0.84902     0.853162  1.45533\n",
       "  2.32074    0.0730647   1.45533   0.400834"
      ]
     },
     "execution_count": 7,
     "metadata": {},
     "output_type": "execute_result"
    }
   ],
   "source": [
    "Symmetric(A)"
   ]
  },
  {
   "cell_type": "code",
   "execution_count": 8,
   "id": "8bc97876-2a3b-4a6b-8bc5-5dd170acc0b0",
   "metadata": {},
   "outputs": [
    {
     "data": {
      "text/plain": [
       "4×4 Diagonal{Float64, Vector{Float64}}:\n",
       " 0.320766   ⋅         ⋅         ⋅ \n",
       "  ⋅        0.469161   ⋅         ⋅ \n",
       "  ⋅         ⋅        0.853162   ⋅ \n",
       "  ⋅         ⋅         ⋅        0.400834"
      ]
     },
     "execution_count": 8,
     "metadata": {},
     "output_type": "execute_result"
    }
   ],
   "source": [
    "Diagonal(A)"
   ]
  },
  {
   "cell_type": "code",
   "execution_count": 9,
   "id": "0c8b5dbc-4bb3-4466-8bf5-7b8245999c53",
   "metadata": {},
   "outputs": [],
   "source": [
    "b = rand(4);"
   ]
  },
  {
   "cell_type": "code",
   "execution_count": 10,
   "id": "fa944153-0be0-41d6-ac54-3a23fb223c0b",
   "metadata": {},
   "outputs": [
    {
     "data": {
      "text/plain": [
       "4-element Vector{Float64}:\n",
       " 0.3673347054935859\n",
       " 0.9691407730732474\n",
       " 0.09975584150165803\n",
       " 0.25754850970749393"
      ]
     },
     "execution_count": 10,
     "metadata": {},
     "output_type": "execute_result"
    }
   ],
   "source": [
    "Diagonal(A) \\ b"
   ]
  },
  {
   "cell_type": "markdown",
   "id": "8fff77d3-9760-4ca2-9ce6-1cb453a4e842",
   "metadata": {},
   "source": [
    "## Eigenvalues and eignevectors"
   ]
  },
  {
   "cell_type": "code",
   "execution_count": 11,
   "id": "a13e33b7-4775-470c-8818-151e460f118e",
   "metadata": {},
   "outputs": [
    {
     "data": {
      "text/plain": [
       "Eigen{ComplexF64, ComplexF64, Matrix{ComplexF64}, Vector{ComplexF64}}\n",
       "values:\n",
       "4-element Vector{ComplexF64}:\n",
       " -0.7319926083553863 - 1.8904643533608572im\n",
       " -0.7319926083553863 + 1.8904643533608572im\n",
       "   0.817705199300573 + 0.0im\n",
       "  2.6902026444536293 + 0.0im\n",
       "vectors:\n",
       "4×4 Matrix{ComplexF64}:\n",
       "   -0.616704-0.0im       …   0.101197+0.0im     0.286154+0.0im\n",
       "    0.172349-0.542222im       0.97771+0.0im  -0.00287729+0.0im\n",
       " -0.00208466-0.360046im     -0.149358+0.0im      0.74579+0.0im\n",
       "    0.304941+0.270813im      0.107397+0.0im     0.601585+0.0im"
      ]
     },
     "execution_count": 11,
     "metadata": {},
     "output_type": "execute_result"
    }
   ],
   "source": [
    "eigen(A)"
   ]
  },
  {
   "cell_type": "code",
   "execution_count": 12,
   "id": "48b7db2f-7c26-4c8b-939d-d84195cb8e67",
   "metadata": {},
   "outputs": [
    {
     "data": {
      "text/plain": [
       "Eigen{Float64, Float64, Matrix{Float64}, Vector{Float64}}\n",
       "values:\n",
       "4-element Vector{Float64}:\n",
       " -2.892207209878333\n",
       "  0.2981996270755185\n",
       "  1.7859940850250993\n",
       "  2.851936124821154\n",
       "vectors:\n",
       "4×4 Matrix{Float64}:\n",
       " -0.608688   0.224301   0.507441   -0.567179\n",
       " -0.189413  -0.891966   0.368735    0.180428\n",
       " -0.444243  -0.294607  -0.77698    -0.334897\n",
       "  0.629499  -0.259408   0.0532925  -0.730478"
      ]
     },
     "execution_count": 12,
     "metadata": {},
     "output_type": "execute_result"
    }
   ],
   "source": [
    "eigen(Symmetric(A))"
   ]
  },
  {
   "cell_type": "markdown",
   "id": "4cf5d893-c9c6-4314-87a5-33b46575c194",
   "metadata": {},
   "source": [
    "Note: it is a convention in Julia that variables and function names start with a lowercase, and for types (and constructors) to start with uppercase."
   ]
  },
  {
   "cell_type": "markdown",
   "id": "05ea7cc6-786d-46b5-9264-052b46676cac",
   "metadata": {},
   "source": [
    "eg. eigen called on Symmetric matrix type knows ahead of time that the eigen vals will be real valued, uses some optimisations"
   ]
  },
  {
   "cell_type": "code",
   "execution_count": 14,
   "id": "7e0ded81-f0c5-444a-9750-e41d8569972e",
   "metadata": {},
   "outputs": [
    {
     "data": {
      "text/plain": [
       "Eigen{Float64, Float64, Matrix{Float64}, Vector{Float64}}\n",
       "values:\n",
       "4-element Vector{Float64}:\n",
       " 0.32076620402700384\n",
       " 0.46916092850572894\n",
       " 0.8531615524771219\n",
       " 0.40083394203357803\n",
       "vectors:\n",
       "4×4 Matrix{Float64}:\n",
       " 1.0  0.0  0.0  0.0\n",
       " 0.0  1.0  0.0  0.0\n",
       " 0.0  0.0  1.0  0.0\n",
       " 0.0  0.0  0.0  1.0"
      ]
     },
     "execution_count": 14,
     "metadata": {},
     "output_type": "execute_result"
    }
   ],
   "source": [
    "eigen(Diagonal(A))"
   ]
  },
  {
   "cell_type": "markdown",
   "id": "518463b9-81bc-4738-aa4c-fc7ba67a1750",
   "metadata": {},
   "source": [
    "in this case for diagonal matrix, eigen knows this is trivial doesnt really need to do any calculation"
   ]
  },
  {
   "cell_type": "markdown",
   "id": "1fcf8bbb-032d-47cd-a8a1-2313a3b6bf8c",
   "metadata": {},
   "source": [
    "## Singular value decomposition"
   ]
  },
  {
   "cell_type": "code",
   "execution_count": 15,
   "id": "b8444567-18ed-4b89-b1af-57b9bdff5efb",
   "metadata": {},
   "outputs": [
    {
     "data": {
      "text/plain": [
       "SVD{Float64, Float64, Matrix{Float64}, Vector{Float64}}\n",
       "U factor:\n",
       "4×4 Matrix{Float64}:\n",
       " -0.622319   -0.117735   0.714758   0.296612\n",
       " -0.464122   -0.369946  -0.657591   0.46401\n",
       " -0.627884    0.460598  -0.228309  -0.584368\n",
       "  0.0554168   0.798203  -0.067605   0.596012\n",
       "singular values:\n",
       "4-element Vector{Float64}:\n",
       " 3.315815170264088\n",
       " 2.4529527937703257\n",
       " 2.0631316553136685\n",
       " 0.5387435884069448\n",
       "Vt factor:\n",
       "4×4 Matrix{Float64}:\n",
       " -0.674883    0.0691823     0.170272  -0.714671\n",
       " -0.0562202  -0.000350118   0.957973   0.281296\n",
       " -0.723165   -0.245908     -0.220631   0.606534\n",
       " -0.135663    0.966821     -0.067954   0.205511"
      ]
     },
     "execution_count": 15,
     "metadata": {},
     "output_type": "execute_result"
    }
   ],
   "source": [
    "sd = svd(A)"
   ]
  },
  {
   "cell_type": "code",
   "execution_count": 16,
   "id": "44f3caac-63ac-4216-a25f-31ec4e4a529e",
   "metadata": {},
   "outputs": [
    {
     "data": {
      "text/plain": [
       "SVD{Float64, Float64, Matrix{Float64}, Vector{Float64}}\n",
       "U factor:\n",
       "4×2 Matrix{Float64}:\n",
       " -0.406711  -0.623586\n",
       "  0.756865  -0.309966\n",
       "  0.476535   0.226173\n",
       " -0.186161   0.681108\n",
       "singular values:\n",
       "2-element Vector{Float64}:\n",
       " 3.237936868285392\n",
       " 1.4000374557173392\n",
       "Vt factor:\n",
       "2×2 Matrix{Float64}:\n",
       " -0.844145   0.536115\n",
       " -0.536115  -0.844145"
      ]
     },
     "execution_count": 16,
     "metadata": {},
     "output_type": "execute_result"
    }
   ],
   "source": [
    "C = randn(4, 2)\n",
    "sd = svd(C)"
   ]
  },
  {
   "cell_type": "code",
   "execution_count": 18,
   "id": "1ece64ce-dd92-449c-985f-06bc83bb13f8",
   "metadata": {},
   "outputs": [
    {
     "data": {
      "text/plain": [
       "4×2 Matrix{Float64}:\n",
       "  0.0          -1.52656e-16\n",
       "  0.0           2.22045e-16\n",
       "  2.22045e-16   0.0\n",
       " -5.55112e-17   0.0"
      ]
     },
     "execution_count": 18,
     "metadata": {},
     "output_type": "execute_result"
    }
   ],
   "source": [
    "sd.U * Diagonal(sd.S) * sd.Vt - C"
   ]
  },
  {
   "cell_type": "markdown",
   "id": "99f8fe79-2610-46cc-a9fb-98dd9e71e7ba",
   "metadata": {},
   "source": [
    "## Sparse matrices"
   ]
  },
  {
   "cell_type": "markdown",
   "id": "1fd9bbcb-b05c-47ed-8ebf-c3579a4c5dba",
   "metadata": {},
   "source": [
    "matrices with only a few non-zero entries. we efficiently represent a sparse matrix by using a vector that contains the index and value of the non-zero values (called coordinate format). order by index\n",
    "\n",
    "use binary search to find a particular entry of the sparse matrix. more expensive than just searching the matrix. \n",
    "also more expensive to insert new values into a sparse matrices. \n",
    "these methods not implemented in julia for this reason"
   ]
  },
  {
   "cell_type": "markdown",
   "id": "fd3369ca-73be-4252-aaec-a966e253d8b9",
   "metadata": {},
   "source": [
    "### storage formats:\n",
    "\n",
    "- coordinate format (all nonzero entries and their index)\n",
    "- compressed sparse column (vector for each column containing row and value for nonzero vals)\n",
    "\n",
    "Inefficient\n",
    "- find particular element\n",
    "- add element\n",
    "\n",
    "Efficient:\n",
    "- matrix-vector multiplication"
   ]
  },
  {
   "cell_type": "code",
   "execution_count": 19,
   "id": "39a5e5c2-0dcd-42ae-bb1c-770945257e0a",
   "metadata": {},
   "outputs": [],
   "source": [
    "using SparseArrays"
   ]
  },
  {
   "cell_type": "code",
   "execution_count": 30,
   "id": "dbe1abc2-8543-49c8-bac1-70f26c3a0480",
   "metadata": {},
   "outputs": [
    {
     "data": {
      "text/plain": [
       "4×4 SparseMatrixCSC{Float64, Int64} with 11 stored entries:\n",
       " 0.827174   ⋅        0.18461   0.551448\n",
       "  ⋅         ⋅        0.737777  0.552807\n",
       "  ⋅        0.304507  0.90205   0.513255\n",
       "  ⋅        0.594817  0.859059  0.598569"
      ]
     },
     "execution_count": 30,
     "metadata": {},
     "output_type": "execute_result"
    }
   ],
   "source": [
    "A = sprand(4, 4, 0.4)"
   ]
  },
  {
   "cell_type": "code",
   "execution_count": 31,
   "id": "f348c95e-6142-4430-a9ce-9da01a728e28",
   "metadata": {},
   "outputs": [],
   "source": [
    "b = randn(4);"
   ]
  },
  {
   "cell_type": "code",
   "execution_count": 32,
   "id": "7a2b0d33-9dc2-4daf-b691-f6397302d865",
   "metadata": {},
   "outputs": [
    {
     "data": {
      "text/plain": [
       "4-element Vector{Float64}:\n",
       "  1.5175686362413168\n",
       "  0.23277995749163027\n",
       " -0.6860173890904795\n",
       " -0.7246254160340908"
      ]
     },
     "execution_count": 32,
     "metadata": {},
     "output_type": "execute_result"
    }
   ],
   "source": [
    "A * b"
   ]
  },
  {
   "cell_type": "code",
   "execution_count": 33,
   "id": "927bfa45-f02b-40da-b493-666994e06c28",
   "metadata": {},
   "outputs": [
    {
     "ename": "LoadError",
     "evalue": "The inverse of a sparse matrix can often be dense and can cause the computer to run out of memory. If you are sure you have enough memory, please either convert your matrix to a dense matrix, e.g. by calling `Matrix` or if `A` can be factorized, use `\\` on the dense identity matrix, e.g. `A \\ Matrix{eltype(A)}(I, size(A)...)` restrictions of `\\` on sparse lhs applies. Alternatively, `A\\b` is generally preferable to `inv(A)*b`",
     "output_type": "error",
     "traceback": [
      "The inverse of a sparse matrix can often be dense and can cause the computer to run out of memory. If you are sure you have enough memory, please either convert your matrix to a dense matrix, e.g. by calling `Matrix` or if `A` can be factorized, use `\\` on the dense identity matrix, e.g. `A \\ Matrix{eltype(A)}(I, size(A)...)` restrictions of `\\` on sparse lhs applies. Alternatively, `A\\b` is generally preferable to `inv(A)*b`",
      "",
      "Stacktrace:",
      " [1] error(s::String)",
      "   @ Base ./error.jl:35",
      " [2] inv(A::SparseMatrixCSC{Float64, Int64})",
      "   @ SparseArrays ~/.julia/juliaup/julia-1.11.4+0.x64.linux.gnu/share/julia/stdlib/v1.11/SparseArrays/src/linalg.jl:1777",
      " [3] top-level scope",
      "   @ In[33]:1"
     ]
    }
   ],
   "source": [
    "inv(A)"
   ]
  },
  {
   "cell_type": "code",
   "execution_count": 34,
   "id": "a5bc41bb-a158-4782-ae2a-c53a9c02b940",
   "metadata": {},
   "outputs": [
    {
     "data": {
      "text/plain": [
       "4-element Vector{Float64}:\n",
       " -10.019115637518475\n",
       "   9.947234739800537\n",
       " -17.814430435498288\n",
       "  21.200300398577326"
      ]
     },
     "execution_count": 34,
     "metadata": {},
     "output_type": "execute_result"
    }
   ],
   "source": [
    "A \\ b"
   ]
  },
  {
   "cell_type": "markdown",
   "id": "d5326c60-8737-4fda-b8bc-ab506c8a8df5",
   "metadata": {},
   "source": [
    "## Iterative methods"
   ]
  },
  {
   "cell_type": "markdown",
   "id": "449893f5-eec6-4bb8-9bd1-cd656f32a9d7",
   "metadata": {},
   "source": [
    "iterative alg for finding eigenvals/eigenvecs of a matrix. may only have blackbox access to A. Power method:\n",
    "\n",
    "take random vec x, then calc $Ax,  A^{2}x,  \\dots , A^{n}x$\n",
    "\n",
    "can assume $x = \\sum_{n} c_{n} v_{n}$ where v are the eigenvectors of A. \n",
    "\n",
    "$A^{n}x = \\sum_{n} \\lambda^{n} c_n v_n$\n",
    "\n",
    "taking n large, the resulting vector approaches the direction of the eigenvector with the largest eigenvalue. can then find this eigenvalue"
   ]
  },
  {
   "cell_type": "code",
   "execution_count": 41,
   "id": "054c7307-da34-4cd8-9f18-6479791cbb0e",
   "metadata": {},
   "outputs": [
    {
     "data": {
      "text/plain": [
       "power_method (generic function with 1 method)"
      ]
     },
     "execution_count": 41,
     "metadata": {},
     "output_type": "execute_result"
    }
   ],
   "source": [
    "# Power method\n",
    "function power_method(A)\n",
    "    #for simplicity here we assume a symmetric matrix, hence real valued eigenvals. could generalise later\n",
    "    x = randn(size(A, 1))\n",
    "    for iter in 1:40\n",
    "        xnew = A * x\n",
    "        eval  = xnew[1] / x[1]\n",
    "        err = norm(xnew - eval * x)\n",
    "        println(\"iter: $iter eval: $eval error: $err evec[1]: $(x[1])\")\n",
    "        x = xnew\n",
    "        x = x / norm(x)\n",
    "    end\n",
    "    return x\n",
    "end"
   ]
  },
  {
   "cell_type": "code",
   "execution_count": 42,
   "id": "d128a099-408a-4491-96ee-b9321a693964",
   "metadata": {},
   "outputs": [
    {
     "name": "stdout",
     "output_type": "stream",
     "text": [
      "iter: 1 eval: -2.8070278260626282 error: 8.145602502364389 evec[1]: 0.208709565575456\n",
      "iter: 2 eval: 3.0753405961644966 error: 1.210779917091808 evec[1]: -0.1873812268877393\n",
      "iter: 3 eval: 2.205481939460879 error: 0.29379457887676386 evec[1]: -0.30263831599365915\n",
      "iter: 4 eval: 2.0503151155541373 error: 0.12007975923203011 evec[1]: -0.34512877306558337\n",
      "iter: 5 eval: 1.9838038436500312 error: 0.047413073348957176 evec[1]: -0.364815008833202\n",
      "iter: 6 eval: 1.9597814135796094 error: 0.020680317969296223 evec[1]: -0.3729068838913814\n",
      "iter: 7 eval: 1.9489358414469267 error: 0.00876208881873307 evec[1]: -0.3765228872899485\n",
      "iter: 8 eval: 1.9444810643500448 error: 0.0038302700849714745 evec[1]: -0.3780625460805445\n",
      "iter: 9 eval: 1.9425035698304378 error: 0.001651694988618881 evec[1]: -0.378739392671292\n",
      "iter: 10 eval: 1.941660433436766 error: 0.0007200832737923605 evec[1]: -0.379031323651962\n",
      "iter: 11 eval: 1.941290537968556 error: 0.0003121387574442178 evec[1]: -0.3791587850426776\n",
      "iter: 12 eval: 1.9411308762674746 error: 0.0001358506668302475 evec[1]: -0.3792140238951217\n",
      "iter: 13 eval: 1.941061213968176 error: 5.898965101584693e-5 evec[1]: -0.3792380759341304\n",
      "iter: 14 eval: 1.9410310137282676 error: 2.5653695863821348e-5 evec[1]: -0.3792485183940812\n",
      "iter: 15 eval: 1.9410178672729972 error: 1.114628297516726e-5 evec[1]: -0.37925306032975753\n",
      "iter: 16 eval: 1.941012158803809 error: 4.845765880673394e-6 evec[1]: -0.3792550336247663\n",
      "iter: 17 eval: 1.9410096761446214 error: 2.1059159011682644e-6 evec[1]: -0.3792558915454559\n",
      "iter: 18 eval: 1.9410085974661435 error: 9.154120323202356e-7 evec[1]: -0.37925626437782334\n",
      "iter: 19 eval: 1.9410081285106167 error: 3.978620059025592e-7 evec[1]: -0.37925642644595525\n",
      "iter: 20 eval: 1.9410079247090688 error: 1.729361291585526e-7 evec[1]: -0.37925649688421537\n",
      "iter: 21 eval: 1.941007836118894 error: 7.516503091974437e-8 evec[1]: -0.3792565275013873\n",
      "iter: 22 eval: 1.9410077976153954 error: 3.2670847658186604e-8 evec[1]: -0.37925654080878907\n",
      "iter: 23 eval: 1.9410077808792914 error: 1.4200249988886599e-8 evec[1]: -0.37925654659293245\n",
      "iter: 24 eval: 1.9410077736051123 error: 6.172159605492e-9 evec[1]: -0.37925654910698237\n",
      "iter: 25 eval: 1.9410077704433528 error: 2.682716930757945e-9 evec[1]: -0.37925655019971904\n",
      "iter: 26 eval: 1.9410077690691077 error: 1.166043503484596e-9 evec[1]: -0.3792565506746745\n",
      "iter: 27 eval: 1.94100776847179 error: 5.06819713290043e-10 evec[1]: -0.37925655088111415\n",
      "iter: 28 eval: 1.9410077682121667 error: 2.202890118780349e-10 evec[1]: -0.3792565509708429\n",
      "iter: 29 eval: 1.9410077680993212 error: 9.574814453003383e-11 evec[1]: -0.37925655100984346\n",
      "iter: 30 eval: 1.9410077680502735 error: 4.161720081537852e-11 evec[1]: -0.37925655102679495\n",
      "iter: 31 eval: 1.9410077680289546 error: 1.80887196719719e-11 evec[1]: -0.37925655103416295\n",
      "iter: 32 eval: 1.9410077680196884 error: 7.862087694730067e-12 evec[1]: -0.37925655103736544\n",
      "iter: 33 eval: 1.9410077680156612 error: 3.4175834421647074e-12 evec[1]: -0.3792565510387574\n",
      "iter: 34 eval: 1.9410077680139102 error: 1.4851097845923798e-12 evec[1]: -0.37925655103936246\n",
      "iter: 35 eval: 1.94100776801315 error: 6.460166361510567e-13 evec[1]: -0.37925655103962536\n",
      "iter: 36 eval: 1.941007768012819 error: 2.8073913944638615e-13 evec[1]: -0.37925655103973976\n",
      "iter: 37 eval: 1.941007768012675 error: 1.217700083704996e-13 evec[1]: -0.3792565510397895\n",
      "iter: 38 eval: 1.9410077680126125 error: 5.2897437883374893e-14 evec[1]: -0.379256551039811\n",
      "iter: 39 eval: 1.9410077680125857 error: 2.3262020615730738e-14 evec[1]: -0.37925655103982037\n",
      "iter: 40 eval: 1.9410077680125735 error: 9.8784897209122e-15 evec[1]: -0.3792565510398245\n"
     ]
    },
    {
     "data": {
      "text/plain": [
       "4-element Vector{Float64}:\n",
       " -0.3792565510398262\n",
       " -0.3957753564218653\n",
       " -0.6237128105114759\n",
       " -0.5572330443776615"
      ]
     },
     "execution_count": 42,
     "metadata": {},
     "output_type": "execute_result"
    }
   ],
   "source": [
    "power_method(Symmetric(A))"
   ]
  },
  {
   "cell_type": "markdown",
   "id": "11fcbdb3-3703-47e6-af5b-fbecfce899b6",
   "metadata": {},
   "source": [
    "## Krylov iterative methods\n",
    "\n",
    "iterative methods for solving linear systems with sparse matrices (?). power method is a simple example\n",
    "\n",
    "eg. solve $Ax = b$ by an iterative method\n",
    "\n",
    "starting value x\n",
    "\n",
    "$x_n \\rightarrow x_{n+1}$ \n",
    "\n",
    "want $x_n$ to approx soln. $A x_n = b = 0$\n",
    "\n",
    "$x_{n+1} - x_n = \\alpha (Ax_n - b)$\n",
    "\n",
    "note: don't use this method, just a simple but not great example of a krylov subspace method"
   ]
  }
 ],
 "metadata": {
  "kernelspec": {
   "display_name": "Julia 1.11.4",
   "language": "julia",
   "name": "julia-1.11"
  },
  "language_info": {
   "file_extension": ".jl",
   "mimetype": "application/julia",
   "name": "julia",
   "version": "1.11.4"
  }
 },
 "nbformat": 4,
 "nbformat_minor": 5
}
